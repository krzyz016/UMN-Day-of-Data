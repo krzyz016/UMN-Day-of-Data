{
 "cells": [
  {
   "cell_type": "markdown",
   "metadata": {},
   "source": [
    "#######################################################\n",
    "\n",
    "#DAY OF DATA 2020 MODIFIABLE AREAL UNIT PROBLEM ACTIVITY\n",
    "#KRZYZANOWSKI, BRITTANY\n",
    "\n",
    "########################################################\n"
   ]
  },
  {
   "cell_type": "markdown",
   "metadata": {},
   "source": [
    "# Let's look at the rather strong and stable relationship between neighborhood air quality and proportion of people of color.\n",
    "\n",
    "Due to structural racism, people of color are much more likely to live in neighborhoods with high pollution levels than whites.\n"
   ]
  },
  {
   "cell_type": "code",
   "execution_count": null,
   "metadata": {},
   "outputs": [],
   "source": [
    "#Load the Libraries\n",
    "require(GWmodel)\n",
    "library(rgdal)\n",
    "require(tmap)\n",
    "\n",
    "#Name your data so you can call on it.  We will call it \"spdat\"\n",
    "spdat<-readOGR(\"data/blockgroup.shp\")"
   ]
  },
  {
   "cell_type": "markdown",
   "metadata": {},
   "source": [
    "# View the data so that you can see the variable names."
   ]
  },
  {
   "cell_type": "code",
   "execution_count": null,
   "metadata": {},
   "outputs": [],
   "source": [
    "names (spdat)\n",
    "\n",
    "# Avg_MEDHIN = Median Household Income.\n",
    "# Avg_Avg_NO = Average NO2 (air quality metric). Higher is worse.\n",
    "# Pedu = Proportion of people with a BA degree or higher.\n",
    "# Pminori = Proportion of people of color.\n",
    "# Sum_TOTPOP = total number of people per unit.\n",
    "# Sum_MINORI = total number of people of color.\n",
    "# Sum_BA_HIG = total number of people with BA degree or higher.\n"
   ]
  },
  {
   "cell_type": "markdown",
   "metadata": {},
   "source": [
    "# Regress neighborhood air quality on proportion of people of color."
   ]
  },
  {
   "cell_type": "code",
   "execution_count": null,
   "metadata": {},
   "outputs": [],
   "source": [
    "#Read the data\n",
    "spdat<-readOGR(\"data/blockgroup.shp\")\n",
    "\n",
    "#Run the regression\n",
    "spdat.lm<-lm(spdat$Pminori~spdat$Avg_Avg_NO, data=spdat)\n",
    "summary.lm(spdat.lm)\n",
    "\n",
    "#Make a scatterplot of the results with a reg line\n",
    "plot(spdat$Pminori, spdat$Avg_Avg_NO, ylab = \"NO2 parts per billion\", xlab = \"Percent of People of Color\", pch=21, bg=\"royalblue\")\n",
    "abline(lm(spdat$Avg_Avg_NO~spdat$Pminori), col=\"red\", lwd=2, lty=2)\n"
   ]
  },
  {
   "cell_type": "markdown",
   "metadata": {},
   "source": [
    "# Let's look at a different relationship-one that is not that stable and is vulnerable to MAUP effects. Let's look at the relationship between neighborhood education attainment and proportion of people of color. <br>\n",
    "*Try running this code at the county level first, then schooldistrict, then censustract.*"
   ]
  },
  {
   "cell_type": "code",
   "execution_count": null,
   "metadata": {},
   "outputs": [],
   "source": [
    "#Read the data\n",
    "spdat<-readOGR(\"data/county.shp\")\n",
    "\n",
    "#Regressing Proportion Minority on proportion with BA degree or higher\n",
    "spdat.lm<-lm(spdat$Pedu~spdat$Pminori, data=spdat)\n",
    "\n",
    "#Scatter Plot\n",
    "plot(spdat$Pminori,spdat$Pedu, ylab = \"Proportion of Population with BA Degree or Higher\", xlab = \"Proportion of People of Color\", pch=21, bg=\"royalblue\")\n",
    "abline(lm(spdat$Pedu~spdat$Pminori), col=\"red\", lwd=2, lty=2)"
   ]
  },
  {
   "cell_type": "code",
   "execution_count": null,
   "metadata": {},
   "outputs": [],
   "source": [
    "summary.lm(spdat.lm)"
   ]
  },
  {
   "cell_type": "markdown",
   "metadata": {},
   "source": [
    "* Both Zoning and Aggregation Effects make up the MAUP.\n",
    "* When you have more observations (aggregation effect) you get different results from when you only have a dozen or so observations. You likely get a better idea of what's going on when you have more observations, but your unit estimates will become less reliable if you use too small of a unit.\n",
    "* Some map units may have very similar numbers of units but they cut the data differently (zoning effect) and this can also change the relationship that you find. Consider gerrymandering.\n"
   ]
  },
  {
   "cell_type": "markdown",
   "metadata": {},
   "source": [
    "# Beginner\n",
    "\n",
    "Go back through the code above and explore the other relationships within the data. There are 4 main variables (race, income, education, and air quality). There are 5 different mapping units (blockgroup, censustract,schooldistrict,votingdistrict, county). What relationships are relatively stable in the Minneapolis metro area? What relationships are not? Think about the implications.\n"
   ]
  },
  {
   "cell_type": "code",
   "execution_count": null,
   "metadata": {},
   "outputs": [],
   "source": [
    "#Read the data (you can change this to explore other map units)\n",
    "spdat<-readOGR(\"data/county.shp\")\n",
    "#county\n",
    "#votingdistrict\n",
    "#schooldistrict\n",
    "#censustract\n",
    "#blockgroup\n",
    "\n",
    "# set up variables and labels \n",
    "# (these are the only other things you need to change, go back to cell 2 to find the variable names)\n",
    "xvariable = spdat$Pminori\n",
    "xlabel = \"Proportion of People of Color\"\n",
    "yvariable = spdat$Pedu\n",
    "ylabel = \"Proportion of Population with BA Degree or Higher\"\n",
    "\n",
    "#create regression model (don't change this)\n",
    "spdat.lm<-lm(yvariable~xvariable, data=spdat)\n",
    "\n",
    "#Scatter Plot (don't change this)\n",
    "plot(xvariable, yvariable, ylab = ylabel, xlab = xlabel, pch=21, bg=\"royalblue\")\n",
    "abline(spdat.lm, col=\"red\", lwd=2, lty=2)\n",
    "\n",
    "# print summary of regression (don't change this)\n",
    "summary.lm(spdat.lm)"
   ]
  },
  {
   "cell_type": "markdown",
   "metadata": {},
   "source": [
    "# Intermediate\n",
    "\n",
    "Go back and explore the data (4 different main variables and 5 different mapping units). Can you use R to make maps? Create four maps: proportion minority (for census tracts and school districts) and air quality (for census tracts and school districts). Now do the same for proportion minority and education. Can you change the color schema of the maps? Maybe add a title and scalebar? Google is your friend.\n"
   ]
  },
  {
   "cell_type": "code",
   "execution_count": null,
   "metadata": {},
   "outputs": [],
   "source": [
    "spdat<-readOGR(\"data/blockgroup.shp\")\n",
    "\n",
    "tm_shape(spdat) +\n",
    "  tm_fill(\"Pminori\",title=\"Proportion of People of Color\",style=\"quantile\")  +\n",
    "  tm_borders() +\n",
    "  tm_layout(title = \"Quintile Map\", title.position = c(\"right\",\"bottom\"))\n"
   ]
  },
  {
   "cell_type": "code",
   "execution_count": null,
   "metadata": {},
   "outputs": [],
   "source": []
  },
  {
   "cell_type": "markdown",
   "metadata": {},
   "source": [
    "# Expert\n",
    "\n",
    "Can you check for MAUP effects in your own data? If you aren't able to access your own data right now, go online and download a dataset that you are interested in.\n",
    "\n"
   ]
  },
  {
   "cell_type": "code",
   "execution_count": null,
   "metadata": {},
   "outputs": [],
   "source": []
  }
 ],
 "metadata": {
  "kernelspec": {
   "display_name": "R",
   "language": "R",
   "name": "ir"
  },
  "language_info": {
   "codemirror_mode": "r",
   "file_extension": ".r",
   "mimetype": "text/x-r-source",
   "name": "R",
   "pygments_lexer": "r",
   "version": "3.6.1"
  }
 },
 "nbformat": 4,
 "nbformat_minor": 2
}
